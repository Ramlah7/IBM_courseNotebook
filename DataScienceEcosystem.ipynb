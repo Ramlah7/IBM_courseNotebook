{
 "cells": [
  {
   "cell_type": "markdown",
   "id": "71b08399-7481-41ef-acf2-11779021f6e0",
   "metadata": {},
   "source": [
    "# H1: DataScience tools and the ecosystem"
   ]
  },
  {
   "cell_type": "markdown",
   "id": "4dc0740e-1acf-4311-8d55-7ceb0f2032a8",
   "metadata": {},
   "source": [
    "In this notebook, Data Science Tools and Ecosystem are summarized."
   ]
  },
  {
   "cell_type": "markdown",
   "id": "3e23d113-96ce-4cb8-b411-0159c95b24af",
   "metadata": {},
   "source": [
    "Some of the popular languages that Data Scientists use are:\n",
    "1. python\n",
    "2. R\n",
    "3. SQL"
   ]
  },
  {
   "cell_type": "markdown",
   "id": "43a0685f-7289-468b-b40c-462e952a9f36",
   "metadata": {},
   "source": [
    "Some of the commonly used libraries used by Data Scientists include:\n",
    "1. pandas\n",
    "2. tenserflow\n",
    "3. matplotlib"
   ]
  },
  {
   "cell_type": "markdown",
   "id": "ec07458d-66dc-4cce-b925-54361d10be01",
   "metadata": {},
   "source": [
    "|Data Science Tools|\n",
    "|------------------|\n",
    "|jupytar notebook|\n",
    "|Rstudio|\n",
    "|spyder|"
   ]
  },
  {
   "cell_type": "markdown",
   "id": "fafac9ed-4449-436f-820e-3c982edf5cb0",
   "metadata": {},
   "source": [
    "### H3 Below are a few examples of evaluating arithmetic expressions in Python\n",
    "1. add_result = a+b\n",
    "2. sub_result = a-b\n",
    "3. div_result = a*b"
   ]
  },
  {
   "cell_type": "code",
   "execution_count": 1,
   "id": "0eb43bdd-8098-4e8c-ab07-debfe8b92ff7",
   "metadata": {},
   "outputs": [
    {
     "data": {
      "text/plain": [
       "17"
      ]
     },
     "execution_count": 1,
     "metadata": {},
     "output_type": "execute_result"
    }
   ],
   "source": [
    "#This a simple arithmetic expression to mutiply then add integers\n",
    "(3*4)+5"
   ]
  },
  {
   "cell_type": "code",
   "execution_count": 5,
   "id": "bdc493c2-b656-4993-8878-ac8c8315da77",
   "metadata": {},
   "outputs": [
    {
     "name": "stdout",
     "output_type": "stream",
     "text": [
      "3.33\n"
     ]
    }
   ],
   "source": [
    "#This will convert 200 minutes to hours by diving by 60\n",
    "min=200\n",
    "hrs=min/60\n",
    "print(f\"{hrs:.2f}\")"
   ]
  },
  {
   "cell_type": "markdown",
   "id": "92f79d92-bc76-4942-804a-959f8c335f87",
   "metadata": {},
   "source": [
    "**Objectives:**\n",
    "\n",
    "- List popular languages for Data Science  \n",
    "- Identify open-source tools used in Data Science  \n",
    "- Evaluate arithmetic expressions in Python  \n",
    "- Format floating-point numbers to two decimal places  \n",
    "- Understand Markdown formatting in Jupyter Notebook  \n"
   ]
  },
  {
   "cell_type": "markdown",
   "id": "c9587d63-0fd8-4012-a73f-2ab807ec0a2f",
   "metadata": {},
   "source": [
    "## Author  \n",
    "Ramlah Munir  \n"
   ]
  }
 ],
 "metadata": {
  "kernelspec": {
   "display_name": "Python 3 (ipykernel)",
   "language": "python",
   "name": "python3"
  },
  "language_info": {
   "codemirror_mode": {
    "name": "ipython",
    "version": 3
   },
   "file_extension": ".py",
   "mimetype": "text/x-python",
   "name": "python",
   "nbconvert_exporter": "python",
   "pygments_lexer": "ipython3",
   "version": "3.12.8"
  }
 },
 "nbformat": 4,
 "nbformat_minor": 5
}
